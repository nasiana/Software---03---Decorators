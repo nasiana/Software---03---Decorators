{
 "cells": [
  {
   "cell_type": "markdown",
   "metadata": {},
   "source": [
    "# Decorators"
   ]
  },
  {
   "cell_type": "markdown",
   "metadata": {},
   "source": [
    "## Flying first class\n",
    "Functions are first class citizens in Python - what does that mean?"
   ]
  },
  {
   "cell_type": "code",
   "execution_count": null,
   "metadata": {},
   "outputs": [],
   "source": [
    "# Can assign to variable - first\n",
    "\n",
    "def add(x, y): \n",
    "    return x + y\n",
    "\n",
    "operation = add\n",
    "\n",
    "print(add(2, 3))\n",
    "print(operation(2, 3))"
   ]
  },
  {
   "cell_type": "code",
   "execution_count": null,
   "metadata": {},
   "outputs": [],
   "source": [
    "# Can pass as argument - second\n",
    "\n",
    "\n",
    "\n",
    "def operate(func, x, y):\n",
    "    print(\"Don't blame it on the sunshine\")\n",
    "    return func(x, y)\n",
    "\n",
    "result_a = operate(add, 1, 2)\n",
    "result_b = add(1, 2)"
   ]
  },
  {
   "cell_type": "code",
   "execution_count": null,
   "metadata": {},
   "outputs": [],
   "source": [
    "# Can return function - third\n",
    "\n",
    "def outer():\n",
    "    def inner():\n",
    "        print(\"Don't blame it on the moonlight\")\n",
    "    return inner\n",
    "\n",
    "result = outer()\n",
    "\n",
    "print(type(result))"
   ]
  },
  {
   "cell_type": "code",
   "execution_count": null,
   "metadata": {},
   "outputs": [],
   "source": [
    "import time;\n",
    "\n",
    "def pet_shop(pet):\n",
    "    def dog_treats():\n",
    "        time.sleep(5)\n",
    "        return [\"slippers\", \"bone\", \"stick\", \"mr snuggles\"]\n",
    "\n",
    "    def cat_costumes():\n",
    "        time.sleep(10)\n",
    "        return [\"superman\", \"hello kitty\", \"albert einstein\"]\n",
    "\n",
    "    if pet == \"dog\":\n",
    "        return dog_treats\n",
    "    elif pet == \"cat\":\n",
    "        return cat_costumes\n",
    "\n",
    "\n",
    "def operate_on_items_without_knowning_type_of_shop(get_items_func):\n",
    "    # if weekday:\n",
    "    #    items = get_items_func()\n",
    "    #    ## do some work\n",
    "    None\n",
    "\n",
    "get_shop_items = pet_shop(\"dog\")\n",
    "operate_on_items_without_knowning_type_of_shop(get_shop_items)\n"
   ]
  },
  {
   "cell_type": "code",
   "execution_count": 88,
   "metadata": {},
   "outputs": [
    {
     "name": "stdout",
     "output_type": "stream",
     "text": [
      "Don't blame it on the good times\n",
      "💃\n",
      "🎵🎵 Blame it on the boogie! 🎵🎵\n"
     ]
    },
    {
     "data": {
      "text/plain": [
       "NoneType"
      ]
     },
     "execution_count": 88,
     "metadata": {},
     "output_type": "execute_result"
    }
   ],
   "source": [
    "def jazz_it_up(func):\n",
    "    def inner_wrapper():\n",
    "        print(\"Don't blame it on the good times\")\n",
    "        func()\n",
    "        print(\"🎵🎵 Blame it on the boogie! 🎵🎵\")\n",
    "\n",
    "    return inner_wrapper\n",
    "\n",
    "def simple_func():\n",
    "    print(\"💃\")\n",
    "\n",
    "# simple_func()\n",
    "\n",
    "decorated = jazz_it_up(simple_func)\n",
    "\n",
    "type(decorated)\n",
    "\n",
    "decorated()\n"
   ]
  },
  {
   "cell_type": "code",
   "execution_count": null,
   "metadata": {},
   "outputs": [],
   "source": [
    "@jazz_it_up\n",
    "def what_should_i_blame_it_on():\n",
    "    print(\"...not on the good times\")\n",
    "\n",
    "what_should_i_blame_it_on()\n",
    "    "
   ]
  },
  {
   "cell_type": "code",
   "execution_count": 79,
   "metadata": {},
   "outputs": [
    {
     "name": "stdout",
     "output_type": "stream",
     "text": [
      "Let's divide  22  by  2\n",
      "11.0\n",
      "Let's divide  22  by  0\n",
      "Whoops! cannot divide by zero\n"
     ]
    }
   ],
   "source": [
    "def divide(a, b):\n",
    "    return a / b\n",
    "\n",
    "\n",
    "def clever_divide(func):\n",
    "    def inner_wrapper(a, b):\n",
    "        print(\"Let's divide \", a, \" by \", b)\n",
    "        if b == 0:\n",
    "            print(\"Whoops! cannot divide by zero\")\n",
    "            return\n",
    "        return func(a, b)\n",
    "    return inner_wrapper\n",
    "    \n",
    "\n",
    "@clever_divide\n",
    "def divide(a, b):\n",
    "    print(a/b)\n",
    "\n",
    "\n",
    "divide(22, 2)\n",
    "divide(22, 0)"
   ]
  },
  {
   "cell_type": "code",
   "execution_count": 78,
   "metadata": {},
   "outputs": [
    {
     "ename": "TypeError",
     "evalue": "inner_wrapper() takes 0 positional arguments but 1 was given",
     "output_type": "error",
     "traceback": [
      "\u001b[1;31m---------------------------------------------------------------------------\u001b[0m",
      "\u001b[1;31mTypeError\u001b[0m                                 Traceback (most recent call last)",
      "\u001b[1;32m~\\AppData\\Local\\Temp/ipykernel_8464/2154465436.py\u001b[0m in \u001b[0;36m<module>\u001b[1;34m\u001b[0m\n\u001b[0;32m      3\u001b[0m     \u001b[0mprint\u001b[0m\u001b[1;33m(\u001b[0m\u001b[1;34mf\"...not on the good times x {n}\"\u001b[0m\u001b[1;33m)\u001b[0m\u001b[1;33m\u001b[0m\u001b[1;33m\u001b[0m\u001b[0m\n\u001b[0;32m      4\u001b[0m \u001b[1;33m\u001b[0m\u001b[0m\n\u001b[1;32m----> 5\u001b[1;33m \u001b[0mwhat_should_i_blame_it_on\u001b[0m\u001b[1;33m(\u001b[0m\u001b[1;36m3\u001b[0m\u001b[1;33m)\u001b[0m\u001b[1;33m\u001b[0m\u001b[1;33m\u001b[0m\u001b[0m\n\u001b[0m",
      "\u001b[1;31mTypeError\u001b[0m: inner_wrapper() takes 0 positional arguments but 1 was given"
     ]
    }
   ],
   "source": [
    "@jazz_it_up\n",
    "def what_should_i_blame_it_on(n):\n",
    "    print(f\"...not on the good times x {n}\")\n",
    "\n",
    "what_should_i_blame_it_on(3)"
   ]
  },
  {
   "cell_type": "markdown",
   "metadata": {},
   "source": [
    "## Accept all the things - General decorators"
   ]
  },
  {
   "cell_type": "code",
   "execution_count": 80,
   "metadata": {},
   "outputs": [
    {
     "name": "stdout",
     "output_type": "stream",
     "text": [
      "I can decorate any function 🌍\n",
      "...not on the good times x 3\n"
     ]
    }
   ],
   "source": [
    "def universal_decorator(func):\n",
    "    def inner_wrapper(*args, **kwargs):\n",
    "        print(\"I can decorate any function 🌍\")\n",
    "        return func(*args, **kwargs)\n",
    "\n",
    "    return inner_wrapper\n",
    "\n",
    "\n",
    "@universal_decorator\n",
    "def what_should_i_blame_it_on(n):\n",
    "    print(f\"...not on the good times x {n}\")\n",
    "\n",
    "what_should_i_blame_it_on(3)"
   ]
  },
  {
   "cell_type": "code",
   "execution_count": null,
   "metadata": {},
   "outputs": [],
   "source": [
    "def borderify(func):\n",
    "    def inner_wrapper(*args, **kwargs):\n",
    "        print(\"*\" * 50)\n",
    "        func(*args, **kwargs)\n",
    "        print(\"*\" * 50)\n",
    "\n",
    "    return inner_wrapper\n",
    "\n",
    "\n",
    "def customizable_decorator(symbol):\n",
    "    def actual_decorator(func):\n",
    "        def inner_wrapper(*args, **kwargs):\n",
    "            print(symbol * 50)\n",
    "            func(*args, **kwargs)\n",
    "            print(symbol * 50)\n",
    "        \n",
    "        return inner_wrapper\n",
    "\n",
    "    return actual_decorator\n",
    "\n",
    "\n",
    "@borderify\n",
    "@customizable_decorator(\"=\")\n",
    "def display_message(message):\n",
    "    print(message)\n",
    "\n",
    "display_message(\"WELCOME TO THE RUMBLEEE!!\")"
   ]
  },
  {
   "cell_type": "markdown",
   "metadata": {},
   "source": [
    "## Class decorators"
   ]
  },
  {
   "cell_type": "code",
   "execution_count": null,
   "metadata": {},
   "outputs": [],
   "source": [
    "class Example:\n",
    "    def __init__(self) -> None:\n",
    "        pass\n",
    "\n",
    "    def __call__(self, x, y):\n",
    "        print(f\"Print calling instance of a class like a method with {x} and {y}\")\n",
    "\n",
    "\n",
    "x = Example()\n",
    "x(1, 2)"
   ]
  },
  {
   "cell_type": "code",
   "execution_count": 84,
   "metadata": {},
   "outputs": [
    {
     "name": "stdout",
     "output_type": "stream",
     "text": [
      "Your numbers are: 2  and  3\n",
      "Result with SquareDecoratorWithMemory is: 36\n",
      "Your numbers are: 2  and  2\n",
      "Result with SquareDecoratorWithMemory is: 16\n",
      "Your numbers are: 3  and  3\n",
      "Result with SquareDecoratorWithMemory is: 81\n",
      "__________\n",
      "Memory: [36, 16, 81]\n"
     ]
    }
   ],
   "source": [
    "class SquareDecoratorWithMemory:\n",
    "    def __init__(self, simple_function):\n",
    "        self.function = simple_function\n",
    "        self._memory = []\n",
    "\n",
    "    def __call__(self, *args, **kwargs):\n",
    "        result = self.function(*args, **kwargs) ** 2\n",
    "        self._memory.append(result)\n",
    "        return result\n",
    "\n",
    "    def memory(self):\n",
    "        print('_' * 10)\n",
    "        return self._memory\n",
    "\n",
    "\n",
    "@SquareDecoratorWithMemory\n",
    "def multiply(a, b):\n",
    "    print(\"Your numbers are:\", a, ' and ', b)\n",
    "    return a * b\n",
    "\n",
    "\n",
    "print(\"Result with SquareDecoratorWithMemory is:\", multiply(2, 3))\n",
    "print(\"Result with SquareDecoratorWithMemory is:\", multiply(2, 2))\n",
    "print(\"Result with SquareDecoratorWithMemory is:\", multiply(3, 3))\n",
    "print(\"Memory:\", multiply.memory())"
   ]
  },
  {
   "cell_type": "markdown",
   "metadata": {},
   "source": [
    "## Exercises"
   ]
  },
  {
   "cell_type": "markdown",
   "metadata": {},
   "source": [
    "### Exercise 1 - How long did it take? \n",
    "Create a @timer decorator. \n",
    "It will measure how long the decorated function takes to execute and print the duration to the console. "
   ]
  },
  {
   "cell_type": "markdown",
   "metadata": {},
   "source": [
    "#### Solution"
   ]
  },
  {
   "cell_type": "code",
   "execution_count": null,
   "metadata": {},
   "outputs": [],
   "source": [
    "# Starter pack\n",
    "\n",
    "import time\n",
    "\n",
    "## Finished 'worker_function_numbers' in 0.00008740 secs\n",
    "\n",
    "def timer(func):\n",
    "    def inner_wrapper(*args, **kwargs):\n",
    "        start_time = time.perf_counter()\n",
    "        value = func(*args, **kwargs)\n",
    "        end_time = time.perf_counter()\n",
    "        run_time = end_time - start_time\n",
    "        print('-' * 20)\n",
    "        print(f\"Finished {func.__name__!r} in {run_time:.8f} secs\")\n",
    "        return value\n",
    "    return inner_wrapper\n",
    "\n",
    "\n",
    "@timer\n",
    "def worker_function_numbers(num):\n",
    "    total_sum = 0\n",
    "    for n in range(num):\n",
    "        total_sum = total_sum + sum([(i/2 + 5) for i in range(1000)])\n",
    "    return total_sum\n",
    "\n",
    "\n",
    "@timer\n",
    "def worker_function_strings(word):\n",
    "    print(\"going for a nap.. 😴\")\n",
    "    time.sleep(3)\n",
    "    new_word = ''\n",
    "    for char in word:\n",
    "        new_word = new_word + ''.join('ZZZ-' + char + '-ZZZ-')\n",
    "    return new_word.rstrip('-')\n",
    "\n",
    "\n",
    "print(worker_function_numbers(1))\n",
    "print(worker_function_numbers(80))\n",
    "\n",
    "print(worker_function_strings('CFG'))\n",
    "print(worker_function_strings('supercalifragilisticexpialidocious'))"
   ]
  },
  {
   "cell_type": "markdown",
   "metadata": {},
   "source": [
    "### Exercise 2 - Remember, why dontcha? \n",
    "Create a @MemoizeDecorator.\n",
    "It will cache results of a function with specific parameters and would instantaneously provide an answer instead"
   ]
  },
  {
   "cell_type": "markdown",
   "metadata": {},
   "source": [
    "#### Solution"
   ]
  },
  {
   "cell_type": "code",
   "execution_count": null,
   "metadata": {},
   "outputs": [],
   "source": [
    "import time\n",
    "\n",
    "class MemoizeDecorator:\n",
    "    def __init__(self, function):\n",
    "        self.cache = {}\n",
    "        self.function = function\n",
    "\n",
    "    def __call__(self, *args, **kwargs):\n",
    "        key = str(args) + str(kwargs)\n",
    "        if key in self.cache:\n",
    "            print(\"I did not run a function, just fetched a result for you! :)\")\n",
    "            return self.cache[key]\n",
    "\n",
    "        value = self.function(*args, **kwargs)\n",
    "        self.cache[key] = value\n",
    "        return value\n",
    "\n",
    "\n",
    "@MemoizeDecorator\n",
    "def worker_function_numbers(num):\n",
    "    time.sleep(1)\n",
    "    total_sum = 0\n",
    "    for n in range(num):\n",
    "        total_sum = total_sum + sum([(i/2 + 5) for i in range(1000)])\n",
    "    return total_sum\n",
    "\n",
    "\n",
    "## run worker function many times with different arguments\n",
    "\n",
    "for i in range(5):\n",
    "    print(worker_function_numbers(i))\n",
    "\n",
    "print(worker_function_numbers.cache)\n",
    "\n",
    "## run again to see check a value was cached\n",
    "print(worker_function_numbers(3))"
   ]
  }
 ],
 "metadata": {
  "interpreter": {
   "hash": "ab2b989c3d67d87a3969b53c4bc9a795d61114fc5f00df46d9e22a36a30ba665"
  },
  "kernelspec": {
   "display_name": "Python 3.10.0 64-bit",
   "language": "python",
   "name": "python3"
  },
  "language_info": {
   "codemirror_mode": {
    "name": "ipython",
    "version": 3
   },
   "file_extension": ".py",
   "mimetype": "text/x-python",
   "name": "python",
   "nbconvert_exporter": "python",
   "pygments_lexer": "ipython3",
   "version": "3.9.6"
  },
  "orig_nbformat": 4
 },
 "nbformat": 4,
 "nbformat_minor": 2
}
